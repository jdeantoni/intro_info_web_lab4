{
  "metadata": {
    "language_info": {
      "codemirror_mode": {
        "name": "python",
        "version": 3
      },
      "file_extension": ".py",
      "mimetype": "text/x-python",
      "name": "python",
      "nbconvert_exporter": "python",
      "pygments_lexer": "ipython3",
      "version": "3.8"
    },
    "kernelspec": {
      "name": "python",
      "display_name": "Python (Pyodide)",
      "language": "python"
    }
  },
  "nbformat_minor": 4,
  "nbformat": 4,
  "cells": [
    {
      "cell_type": "markdown",
      "source": "# TP 4\n\nDans ce TP nous allons manipuler la définition et l'utilisation de fonctions (que nous avons déjà vues en TD).\nLe TP commence par de petits execrcices de définition et utilisation de fonctions puis vous verrez comment elles peuvent être utilisées pour décomposer un problème en sous problèmes de manière élégante.\n\n\n## Définitions de fonctions simples",
      "metadata": {}
    },
    {
      "cell_type": "markdown",
      "source": "### addN\n\nDéfinir une fonction nommée $addN$ qui prend 2 entiers naturels $i1$ et $n$ en paramètre et qui retourne un entier de valeur $i1 + n$\n\nVous utiliserez cette fonction pour modifier tous les éléments d'une liste d'entier nommée $maListe$ de sorte que:\n\n$\\forall i \\in maListe, i = i + i$.",
      "metadata": {}
    },
    {
      "cell_type": "code",
      "source": "def addN(i1: int, n: int) -> int:\n    return i1 + n\n\nliste: list[int] = list([1,2,3,4])\ni: int  = int(0)\nwhile (i < len(liste)):\n    liste[i] = addN(liste[i],liste[i])\n    i = i + 1\n\nprint(liste)",
      "metadata": {
        "tags": [],
        "trusted": true
      },
      "execution_count": 3,
      "outputs": [
        {
          "name": "stdout",
          "text": "[2, 4, 6, 8]\n",
          "output_type": "stream"
        }
      ]
    },
    {
      "cell_type": "markdown",
      "source": "### ChangeColor\n\nDéfinir une fonction nommée $changeColor$ qui prend 2 $Pixel$s $p$ et $pNewColor$ en paramètre. \n\nCette fonction doit remplacer chaque composante $r,g,b$ de $p$ par celles de $pNewColor$. \n\nL'argument d'appel prenant l'étiquette $p$ dans le corps de la fonction (de type pixel) doit être modifié après l'appel.\n\nTestez votre fonction pour changer un pixel de couleur noir en un pixel de couleur gris moyen.",
      "metadata": {}
    },
    {
      "cell_type": "code",
      "source": "import cv2\nfrom iiwHelper import *\n\ndef changeColor(p: Pixel, pNewColor: Pixel) -> None:\n    p.r = pNewColor.r\n    p.g = pNewColor.g\n    p.b = pNewColor.b\n\npix: Pixel = Pixel(0,0,0)\n\nchangeColor(pix, Pixel(127,127,127))\n\nprint(pix)",
      "metadata": {
        "trusted": true
      },
      "execution_count": 4,
      "outputs": [
        {
          "name": "stdout",
          "text": "Pixel(r=127, g=127, b=127)\n",
          "output_type": "stream"
        }
      ]
    },
    {
      "cell_type": "markdown",
      "source": "### areEqualsWithTolerance\n\nDéfinir une fonction nommée $areEqualsWithTolerance$ qui prend 2 $Pixel$s $p1$ et $p2$ comme paramètre. \n\nCette fonction prend également un entier entre 0 et 255 nommé $tolerance$ en paramètre. \n\nLa fonction doit renvoyer $True$ si chaque composante $r,g,b$ de $p2$ appartiennent respectivement à $[p1.r-tolerance; p1.r+tolerance], [p1.g-tolerance; p1.g+tolerance], [p1.b-tolerance; p1.b+tolerance]$, $False$ autrement.\n\nFaite au moins deux tests significatifs",
      "metadata": {}
    },
    {
      "cell_type": "code",
      "source": "import cv2\nfrom iiwHelper import *\nimport sys\n\ndef areEqualsWithTolerance(p1: Pixel, p2: Pixel, tolerance: int) -> bool:\n    if (tolerance > 255 or tolerance < 0):\n        print('tolerance is out of range. Should be in [0; 255], found', tolerance,file=sys.stderr)\n    return ((p1.r <= p2.r + tolerance) and (p1.r >= p2.r - tolerance) and \n            (p1.g <= p2.g + tolerance) and (p1.g >= p2.g - tolerance) and \n            (p1.b <= p2.b + tolerance) and (p1.b >= p2.b - tolerance))\n\npix1: Pixel = Pixel(0,0,0)\npix2: Pixel = Pixel(50,12,30)\npix3: Pixel = Pixel(127,0,0)\n\nassert(areEqualsWithTolerance(pix1,pix2,55))\nassert(not areEqualsWithTolerance(pix1,pix2,35))\nassert(areEqualsWithTolerance(pix1,pix3,155))\nassert(not areEqualsWithTolerance(pix1,pix3,100))\nareEqualsWithTolerance(pix1,pix2,300)",
      "metadata": {
        "tags": [],
        "trusted": true
      },
      "execution_count": 7,
      "outputs": [
        {
          "name": "stderr",
          "text": "tolerance is out of range. Should be in [0; 255], foud 300\n",
          "output_type": "stream"
        },
        {
          "execution_count": 7,
          "output_type": "execute_result",
          "data": {
            "text/plain": "True"
          },
          "metadata": {}
        }
      ]
    },
    {
      "cell_type": "code",
      "source": "import cv2\nfrom iiwHelper import *\n\nimage: ImagePPM = loadImage('./pict/logo.txt')\npRef: Pixel = Pixel(53,132,160)\npNew: Pixel = Pixel(255,0,0)\ni: int = int(0)\nwhile( i < len(image.pixels)):\n    p: Pixel = image.pixels[i]\n    if (areEqualsWithTolerance(p,pRef,50)):\n        changeColor(p,pNew)\n    i = i + 1\nshowImage(image)",
      "metadata": {
        "trusted": true
      },
      "execution_count": null,
      "outputs": []
    },
    {
      "cell_type": "code",
      "source": "import cv2\nfrom iiwHelper import *\n\ndef getX(img:ImagePPM, pos: int) -> int:\n    return pos%img.width\n\ndef getY(img:ImagePPM, pos: int) -> int:\n    return pos//img.width\n\n\nimage: ImagePPM = loadImage('./pict/valrose.txt')\n\ni: int = int(0)\nwhile (i < len(image.pixels)):\n    p: Pixel = image.pixels[i]\n    posX: int = getX(image,i)\n    if (posX < image.width//3):\n        p.r = p.r//3\n        p.g = p.g//3\n    if (posX > 2*image.width//3):\n        p.b = p.b//3\n        p.g = p.g//3\n    if (posX > image.width//3 and posX < 2*image.width//3):\n        p.r = p.r + 100\n        p.g = p.g + 100\n        p.b = p.b + 100\n    i = i + 1\nshowImage(image)",
      "metadata": {
        "trusted": true
      },
      "execution_count": null,
      "outputs": []
    },
    {
      "cell_type": "code",
      "source": "import cv2\nfrom iiwHelper import *\n\ndef distanceP1P2(p1X:int, p1Y:int, p2X:int, p2Y:int) -> float:\n    return ((p2X-p1X)**2 + (p2Y-p1Y)**2)**(1/2)\n\ndef isInCircle(img:ImagePPM, centerX:int, centerY:int, radius: int, pixelPos:int) -> bool:\n    return distanceP1P2(getX(img,pixelPos),getY(img,pixelPos),centerX,centerY) < radius\n\nimage: ImagePPM = loadImage('./pict/valrose.txt')\n\ni: int = int(0)\nwhile (i < len(image.pixels)):\n    p: Pixel = image.pixels[i]\n    if (isInCircle(image, image.width//2, image.height//2, 100, i)):\n        p.g = p.g//3\n        p.b = p.g//3\n    else:\n        p.r = p.r + 100\n        p.g = p.g + 100\n        p.b = p.b + 100\n    i = i + 1\nshowImage(image)",
      "metadata": {
        "trusted": true
      },
      "execution_count": null,
      "outputs": []
    }
  ]
}