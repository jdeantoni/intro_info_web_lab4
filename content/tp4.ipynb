{
  "metadata": {
    "language_info": {
      "codemirror_mode": {
        "name": "python",
        "version": 3
      },
      "file_extension": ".py",
      "mimetype": "text/x-python",
      "name": "python",
      "nbconvert_exporter": "python",
      "pygments_lexer": "ipython3",
      "version": "3.8"
    },
    "kernelspec": {
      "name": "python",
      "display_name": "Python (Pyodide)",
      "language": "python"
    }
  },
  "nbformat_minor": 4,
  "nbformat": 4,
  "cells": [
    {
      "cell_type": "code",
      "source": "def add1(i1: int) -> int:\n    return i1 + 1\n\nmonInt: int = int(41)\nanotherInt: int = int(add1(monInt))\n\nprint(anotherInt)",
      "metadata": {
        "trusted": true
      },
      "execution_count": null,
      "outputs": []
    },
    {
      "cell_type": "code",
      "source": "def addN(i1: int, n: int) -> int:\n    return i1 + n\n\nmonInt: int = int(32)\nanotherInt: int = int(addN(monInt, 10))\n\nprint(anotherInt)",
      "metadata": {
        "trusted": true
      },
      "execution_count": null,
      "outputs": []
    },
    {
      "cell_type": "code",
      "source": "import cv2\nfrom iiwHelper import *\n\ndef changeRedPart(p: Pixel, newRed: int) -> None:\n    p.r = newRed\n\npix: Pixel = Pixel(0,0,0)\n\nchangeRedPart(pix, 255)\n\nprint(pix)",
      "metadata": {
        "trusted": true
      },
      "execution_count": null,
      "outputs": []
    },
    {
      "cell_type": "code",
      "source": "import cv2\nfrom iiwHelper import *\n\ndef changeColor(p: Pixel, pNewColor: Pixel) -> None:\n    p.r = pNewColor.r\n    p.g = pNewColor.g\n    p.b = pNewColor.b\n\npix: Pixel = Pixel(0,0,0)\n\nchangeColor(pix, Pixel(255,127,42))\n\nprint(pix)",
      "metadata": {
        "trusted": true
      },
      "execution_count": null,
      "outputs": []
    },
    {
      "cell_type": "code",
      "source": "import cv2\nfrom iiwHelper import *\n\ndef areEquals(p1: Pixel, p2: Pixel) -> bool:\n    return p1 == p2\n\npix1: Pixel = Pixel(0,0,0)\npix2: Pixel = Pixel(0,0,0)\npix3: Pixel = Pixel(127,0,0)\n\nassert(areEquals(pix1,pix2))\nassert(not areEquals(pix1,pix3))",
      "metadata": {
        "trusted": true
      },
      "execution_count": null,
      "outputs": []
    },
    {
      "cell_type": "code",
      "source": "import cv2\nfrom iiwHelper import *\n\ndef areEqualsWithTolerance(p1: Pixel, p2: Pixel, tolerance: int) -> bool:\n    return ((p1.r < p2.r + tolerance) and (p1.r > p2.r - tolerance) and \n            (p1.g < p2.g + tolerance) and (p1.g > p2.g - tolerance) and \n            (p1.b < p2.b + tolerance) and (p1.b > p2.b - tolerance))\n\npix1: Pixel = Pixel(0,0,0)\npix2: Pixel = Pixel(50,12,30)\npix3: Pixel = Pixel(127,0,0)\n\nassert(areEqualsWithTolerance(pix1,pix2,55))\nassert(not areEqualsWithTolerance(pix1,pix2,35))\nassert(areEqualsWithTolerance(pix1,pix3,155))\nassert(not areEqualsWithTolerance(pix1,pix3,100))",
      "metadata": {
        "tags": [],
        "trusted": true
      },
      "execution_count": null,
      "outputs": []
    },
    {
      "cell_type": "code",
      "source": "import cv2\nfrom iiwHelper import *\n\nimage: ImagePPM = loadImage('./pict/logo.txt')\npRef: Pixel = Pixel(53,132,160)\npNew: Pixel = Pixel(255,0,0)\ni: int = int(0)\nwhile( i < len(image.pixels)):\n    p: Pixel = image.pixels[i]\n    if (areEqualsWithTolerance(p,pRef,50)):\n        changeColor(p,pNew)\n    i = i + 1\nshowImage(image)",
      "metadata": {
        "trusted": true
      },
      "execution_count": null,
      "outputs": []
    },
    {
      "cell_type": "code",
      "source": "import cv2\nfrom iiwHelper import *\n\ndef getX(img:ImagePPM, pos: int) -> int:\n    return pos%img.width\n\ndef getY(img:ImagePPM, pos: int) -> int:\n    return pos//img.width\n\n\nimage: ImagePPM = loadImage('./pict/valrose.txt')\n\ni: int = int(0)\nwhile (i < len(image.pixels)):\n    p: Pixel = image.pixels[i]\n    posX: int = getX(image,i)\n    if (posX < image.width//3):\n        p.r = p.r//3\n        p.g = p.g//3\n    if (posX > 2*image.width//3):\n        p.b = p.b//3\n        p.g = p.g//3\n    if (posX > image.width//3 and posX < 2*image.width//3):\n        p.r = p.r + 100\n        p.g = p.g + 100\n        p.b = p.b + 100\n    i = i + 1\nshowImage(image)",
      "metadata": {
        "trusted": true
      },
      "execution_count": null,
      "outputs": []
    },
    {
      "cell_type": "code",
      "source": "import cv2\nfrom iiwHelper import *\n\ndef distanceP1P2(p1X:int, p1Y:int, p2X:int, p2Y:int) -> float:\n    return ((p2X-p1X)**2 + (p2Y-p1Y)**2)**(1/2)\n\ndef isInCircle(img:ImagePPM, centerX:int, centerY:int, radius: int, pixelPos:int) -> bool:\n    return distanceP1P2(getX(img,pixelPos),getY(img,pixelPos),centerX,centerY) < radius\n\nimage: ImagePPM = loadImage('./pict/valrose.txt')\n\ni: int = int(0)\nwhile (i < len(image.pixels)):\n    p: Pixel = image.pixels[i]\n    if (isInCircle(image, image.width//2, image.height//2, 100, i)):\n        p.g = p.g//3\n        p.b = p.g//3\n    else:\n        p.r = p.r + 100\n        p.g = p.g + 100\n        p.b = p.b + 100\n    i = i + 1\nshowImage(image)",
      "metadata": {
        "trusted": true
      },
      "execution_count": null,
      "outputs": []
    }
  ]
}